{
 "cells": [
  {
   "cell_type": "code",
   "execution_count": null,
   "id": "ac34d699",
   "metadata": {},
   "outputs": [],
   "source": [
    "ums_ID = ''                 # Your UMS ID           Make sure they are correct\n",
    "ums_Password = ''           # Your UMS PASSWORD     Make sure they are correct\n",
    "\n",
    "path_to_chromeDriver = r''  # put the path to chrome driver. example r'C:\\Users\\My USER\\my directory\\my folder\\chromedriver.exe'\n",
    "pivot_pages = 1             # How many number of display sheets you want to capture, defualt = 1 sheet "
   ]
  },
  {
   "cell_type": "code",
   "execution_count": null,
   "id": "80ff8e1a",
   "metadata": {},
   "outputs": [],
   "source": [
    "###     -------------\n",
    "###     -------------\n",
    "###    ---IMPORTANT---\n",
    "###     -------------\n",
    "###     -------------\n",
    "# IF not a DEVELOPER, do not change anything below"
   ]
  },
  {
   "cell_type": "markdown",
   "id": "6f57319c",
   "metadata": {},
   "source": [
    "# IF not a DEVELOPER, do not change anything below"
   ]
  },
  {
   "cell_type": "code",
   "execution_count": null,
   "id": "b818e3a5",
   "metadata": {},
   "outputs": [],
   "source": []
  },
  {
   "cell_type": "code",
   "execution_count": null,
   "id": "ae6b898d",
   "metadata": {},
   "outputs": [],
   "source": [
    "from selenium.webdriver import Chrome, ChromeOptions\n",
    "from selenium import webdriver\n",
    "import pandas as pd\n",
    "import time\n",
    "import numpy as np\n",
    "from bs4 import BeautifulSoup\n",
    "\n",
    "import warnings\n",
    "warnings.filterwarnings('ignore')"
   ]
  },
  {
   "cell_type": "code",
   "execution_count": null,
   "id": "81e6660a",
   "metadata": {},
   "outputs": [],
   "source": [
    "browser = webdriver.Chrome(path_to_chromeDriver)"
   ]
  },
  {
   "cell_type": "code",
   "execution_count": null,
   "id": "ae47a150",
   "metadata": {},
   "outputs": [],
   "source": [
    "baseURL = 'https://ums.lpu.in/Placements/'\n",
    "browser.get(baseURL)"
   ]
  },
  {
   "cell_type": "code",
   "execution_count": null,
   "id": "9246895a",
   "metadata": {},
   "outputs": [],
   "source": [
    "usr_name = browser.find_element_by_id('txtUserName')\n",
    "usr_name.send_keys(ums_ID)"
   ]
  },
  {
   "cell_type": "code",
   "execution_count": null,
   "id": "a9ebca76",
   "metadata": {},
   "outputs": [],
   "source": [
    "usr_pass = browser.find_element_by_id('txtPassword')\n",
    "usr_pass.send_keys(ums_Password)"
   ]
  },
  {
   "cell_type": "code",
   "execution_count": null,
   "id": "92056651",
   "metadata": {},
   "outputs": [],
   "source": [
    "# Clicking Submit ID/Pass button\n",
    "browser.find_element_by_xpath('//*[@id=\"Button1\"]').click()\n",
    "# Drive Registration Button\n",
    "browser.find_element_by_xpath('//*[@id=\"ctl00_RadMenu1\"]/ul/li[3]/a/span').click()"
   ]
  },
  {
   "cell_type": "code",
   "execution_count": null,
   "id": "960d446f",
   "metadata": {},
   "outputs": [],
   "source": [
    "company = []\n",
    "ctc = []\n",
    "streams = []\n",
    "Date = []\n",
    "myStream = \"\""
   ]
  },
  {
   "cell_type": "code",
   "execution_count": null,
   "id": "ed80fbdb",
   "metadata": {},
   "outputs": [],
   "source": [
    "# Get salary package details, returns None if can't fetch\n",
    "def getSalary(count):\n",
    "    cnt = ''\n",
    "    ctc = np.NaN\n",
    "    if count < 10:\n",
    "        cnt = '0' + str(count)\n",
    "    else:\n",
    "        cnt = str(count)\n",
    "        \n",
    "    try:\n",
    "        browser.find_element_by_xpath(f'//*[@id=\"ctl00_ContentPlaceHolder1_gdvPlacement_ctl{cnt}_hypJobProfile\"]').click()\n",
    "        browser.switch_to.window(browser.window_handles[1])\n",
    "        ctc = browser.find_element_by_xpath('//*[@id=\"tblEmailData\"]/table[1]/tbody/tr[6]/td/table/tbody/tr[2]/td[4]').text\n",
    "    except:\n",
    "        pass\n",
    "    finally:\n",
    "        if browser.title != 'Placement Drive Registration':\n",
    "            browser.close()\n",
    "            browser.switch_to.window(browser.window_handles[0])\n",
    "        else:\n",
    "            browser.switch_to.window(browser.window_handles[0])\n",
    "    \n",
    "    return ctc"
   ]
  },
  {
   "cell_type": "code",
   "execution_count": null,
   "id": "9fd81ad6",
   "metadata": {},
   "outputs": [],
   "source": [
    "# Get the company details \n",
    "def getDetails(Drives):\n",
    "    global company, ctc, streams, Date, myStream\n",
    "#     print(Drives[3].findAll('td')[1])\n",
    "    count = 2\n",
    "    for i in range(1, len(Drives)-2):\n",
    "        data = Drives[i].findAll('td')\n",
    "#         print(i)\n",
    "        if len(myStream) == 0:                 #checks for specific stream only, depricated\n",
    "            Date.append(data[2].text.strip())\n",
    "            company.append(data[3].text.strip())\n",
    "            streams.append(data[4].text.strip())\n",
    "            ctc.append(getSalary(count))\n",
    "            count += 1\n",
    "            \n",
    "        else:\n",
    "            if myStream in data[4].text.strip():\n",
    "                streams.append(data[4].text.strip())\n",
    "                Date.append(data[2].text.strip())\n",
    "                company.append(data[3].text.strip())\n",
    "                ctc.append(getSalary(count))\n",
    "                \n",
    "            count += 1\n"
   ]
  },
  {
   "cell_type": "code",
   "execution_count": null,
   "id": "7c0a4912",
   "metadata": {},
   "outputs": [],
   "source": [
    "# Main Script\n",
    "\n",
    "def main():\n",
    "    \n",
    "    for pivotPage in range(1, pivot_pages+1):\n",
    "        pgStart = 3\n",
    "        pgEnd = 12\n",
    "\n",
    "        if pivotPage == 1:            # For 1st page, we have only 11 blocks\n",
    "            pgStart = 2\n",
    "            pgEnd = 11\n",
    "            \n",
    "        while(pgStart <= pgEnd):\n",
    "            \n",
    "            html = browser.page_source\n",
    "            soup=BeautifulSoup(html,'html.parser')\n",
    "\n",
    "            table = soup.find(\"table\",{'class': 'aspGridView'})\n",
    "            tableRow = table.findAll('tr')\n",
    "            try:\n",
    "                getDetails(tableRow)\n",
    "            except:\n",
    "                pass\n",
    "\n",
    "            if pivotPage == 1:         #Clicks every next page till the pivot end\n",
    "                browser.find_element_by_xpath(f'//*[@id=\"ctl00_ContentPlaceHolder1_gdvPlacement\"]/tbody/tr[52]/td/table/tbody/tr/td[{pgStart}]/a').click()\n",
    "            else:\n",
    "                browser.find_element_by_xpath(f'//*[@id=\"ctl00_ContentPlaceHolder1_gdvPlacement\"]/tbody/tr[52]/td/table/tbody/tr/td[{pgStart}]/a').click()\n",
    "\n",
    "            pgStart+=1\n",
    " "
   ]
  },
  {
   "cell_type": "code",
   "execution_count": null,
   "id": "96ac671a",
   "metadata": {
    "scrolled": true
   },
   "outputs": [],
   "source": [
    "if __name__ == \"__main__\":\n",
    "    main()"
   ]
  },
  {
   "cell_type": "code",
   "execution_count": null,
   "id": "a4b22063",
   "metadata": {},
   "outputs": [],
   "source": [
    "allDrives = pd.DataFrame(list(zip(Date, company, streams, ctc)), columns=['Date', 'Company', 'stream', 'ctc'])"
   ]
  },
  {
   "cell_type": "code",
   "execution_count": null,
   "id": "5e5ee301",
   "metadata": {},
   "outputs": [],
   "source": [
    "allDrives.to_csv('drives.csv')"
   ]
  },
  {
   "cell_type": "code",
   "execution_count": null,
   "id": "8a27b581",
   "metadata": {},
   "outputs": [],
   "source": []
  }
 ],
 "metadata": {
  "kernelspec": {
   "display_name": "Python 3",
   "language": "python",
   "name": "python3"
  },
  "language_info": {
   "codemirror_mode": {
    "name": "ipython",
    "version": 3
   },
   "file_extension": ".py",
   "mimetype": "text/x-python",
   "name": "python",
   "nbconvert_exporter": "python",
   "pygments_lexer": "ipython3",
   "version": "3.9.6"
  }
 },
 "nbformat": 4,
 "nbformat_minor": 5
}
